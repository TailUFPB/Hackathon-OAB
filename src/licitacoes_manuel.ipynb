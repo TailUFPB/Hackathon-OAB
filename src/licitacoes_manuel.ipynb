{
  "nbformat": 4,
  "nbformat_minor": 0,
  "metadata": {
    "colab": {
      "name": "licitacoes_manuel.ipynb",
      "provenance": [],
      "collapsed_sections": []
    },
    "kernelspec": {
      "name": "python3",
      "display_name": "Python 3"
    }
  },
  "cells": [
    {
      "cell_type": "markdown",
      "metadata": {
        "id": "D2k6Fthhzldf",
        "colab_type": "text"
      },
      "source": [
        "# O que fazer:\n",
        "\n",
        "Quanto cada empresa (fornecedor) ganhou por licitação\n",
        "\n",
        "col: nome_proponent / cpf_cnpj_proponent / valor_proposta"
      ]
    },
    {
      "cell_type": "markdown",
      "metadata": {
        "id": "H5DoTZpg2nhI",
        "colab_type": "text"
      },
      "source": [
        "# Manuel"
      ]
    },
    {
      "cell_type": "code",
      "metadata": {
        "id": "TMzIrw_O2pRo",
        "colab_type": "code",
        "colab": {}
      },
      "source": [
        "import pandas as pd\n",
        "import numpy as np"
      ],
      "execution_count": 197,
      "outputs": []
    },
    {
      "cell_type": "code",
      "metadata": {
        "id": "BaEiRmea74qH",
        "colab_type": "code",
        "colab": {}
      },
      "source": [
        "df = pd.read_csv('licitacaoes_covid_PB.csv',index_col=0)\n",
        "df = df[df['nome_modalidade_licitacao'] == 'Dispensa COVID-19 (Art. 4º da Lei 13.979/2020)']\n",
        "df_lic_winer = df[df['situacao_proposta']=='Vencedora']"
      ],
      "execution_count": 228,
      "outputs": []
    },
    {
      "cell_type": "code",
      "metadata": {
        "id": "XJWAuxvY8k4p",
        "colab_type": "code",
        "colab": {}
      },
      "source": [
        "pd.options.display.float_format = 'R$ {:,.2f}'.format\n",
        "df_lic_nome_cpf = pd.DataFrame(df_lic_winer.groupby(['nome_proponente','cpf_cnpj_proponente']).sum())"
      ],
      "execution_count": 206,
      "outputs": []
    },
    {
      "cell_type": "code",
      "metadata": {
        "id": "FMqyYxdZTx5m",
        "colab_type": "code",
        "colab": {}
      },
      "source": [
        "df_lic_nome_cpf_prop = pd.DataFrame(df_lic_nome_cpf['valor_proposta']).sort_values('valor_proposta',ascending=False)"
      ],
      "execution_count": 207,
      "outputs": []
    },
    {
      "cell_type": "code",
      "metadata": {
        "id": "tqp6puUZipUV",
        "colab_type": "code",
        "colab": {
          "base_uri": "https://localhost:8080/",
          "height": 982
        },
        "outputId": "a37c2838-71a2-43c0-bf84-2773e4292a86"
      },
      "source": [
        "df"
      ],
      "execution_count": 209,
      "outputs": [
        {
          "output_type": "execute_result",
          "data": {
            "text/html": [
              "<div>\n",
              "<style scoped>\n",
              "    .dataframe tbody tr th:only-of-type {\n",
              "        vertical-align: middle;\n",
              "    }\n",
              "\n",
              "    .dataframe tbody tr th {\n",
              "        vertical-align: top;\n",
              "    }\n",
              "\n",
              "    .dataframe thead th {\n",
              "        text-align: right;\n",
              "    }\n",
              "</style>\n",
              "<table border=\"1\" class=\"dataframe\">\n",
              "  <thead>\n",
              "    <tr style=\"text-align: right;\">\n",
              "      <th></th>\n",
              "      <th>protocolo_licitacao</th>\n",
              "      <th>numero_licitacao</th>\n",
              "      <th>nome_modalidade_licitacao</th>\n",
              "      <th>nome_municipio</th>\n",
              "      <th>cd_ugestora</th>\n",
              "      <th>jurisdicionado_id</th>\n",
              "      <th>nome_jurisdicionado</th>\n",
              "      <th>nome_tipo_jurisdicionado</th>\n",
              "      <th>nome_tipo_administracao_jurisdicionado</th>\n",
              "      <th>nome_esfera_jurisdicionado</th>\n",
              "      <th>objeto_licitacao</th>\n",
              "      <th>valor_estimado_licitacao</th>\n",
              "      <th>valor_licitado_licitacao</th>\n",
              "      <th>data_homologacao_licitacao</th>\n",
              "      <th>ano_homologacao_licitacao</th>\n",
              "      <th>situacao_fracassada_licitacao</th>\n",
              "      <th>nome_proponente</th>\n",
              "      <th>cpf_cnpj_proponente</th>\n",
              "      <th>valor_proposta</th>\n",
              "      <th>situacao_proposta</th>\n",
              "      <th>nome_estagio_processual_licitacao</th>\n",
              "      <th>nome_setor_atual_licitacao</th>\n",
              "      <th>url</th>\n",
              "    </tr>\n",
              "  </thead>\n",
              "  <tbody>\n",
              "    <tr>\n",
              "      <th>224214</th>\n",
              "      <td>Doc. 25381/20</td>\n",
              "      <td>00004/2020</td>\n",
              "      <td>Dispensa COVID-19 (Art. 4º da Lei 13.979/2020)</td>\n",
              "      <td>São José de Espinharas</td>\n",
              "      <td>201187</td>\n",
              "      <td>774</td>\n",
              "      <td>Prefeitura Municipal de São José de Espinharas</td>\n",
              "      <td>Prefeitura</td>\n",
              "      <td>Direta</td>\n",
              "      <td>Municipal</td>\n",
              "      <td>Aquisição de Cestas básicas a atender o enfret...</td>\n",
              "      <td>R$ nan</td>\n",
              "      <td>R$ 35,328.00</td>\n",
              "      <td>08/04/2020</td>\n",
              "      <td>2020</td>\n",
              "      <td>Não</td>\n",
              "      <td>BETHOVEN DOS SANTOS DA SILVA</td>\n",
              "      <td>09323745000166</td>\n",
              "      <td>R$ 35,328.00</td>\n",
              "      <td>Vencedora</td>\n",
              "      <td>Formalizado</td>\n",
              "      <td>GUARDA TEMPORÁRIA</td>\n",
              "      <td>https://tramita.tce.pb.gov.br/tramita/consulta...</td>\n",
              "    </tr>\n",
              "    <tr>\n",
              "      <th>224225</th>\n",
              "      <td>Doc. 25467/20</td>\n",
              "      <td>00001/2020</td>\n",
              "      <td>Dispensa COVID-19 (Art. 4º da Lei 13.979/2020)</td>\n",
              "      <td>João Pessoa</td>\n",
              "      <td>609095</td>\n",
              "      <td>1010</td>\n",
              "      <td>Fundo Municipal de Assistência Social de João ...</td>\n",
              "      <td>Fundo</td>\n",
              "      <td>Indireta</td>\n",
              "      <td>Municipal</td>\n",
              "      <td>CONTRATAÇÃO DE EMPRESA ESPECIALIZADA PARA AQUI...</td>\n",
              "      <td>R$ nan</td>\n",
              "      <td>R$ 30,212.60</td>\n",
              "      <td>08/04/2020</td>\n",
              "      <td>2020</td>\n",
              "      <td>Não</td>\n",
              "      <td>Mais Comercio de Descartaveis Ltda</td>\n",
              "      <td>17178985000142</td>\n",
              "      <td>R$ 30,112.60</td>\n",
              "      <td>Vencedora</td>\n",
              "      <td>Formalizado</td>\n",
              "      <td>GUARDA TEMPORÁRIA</td>\n",
              "      <td>https://tramita.tce.pb.gov.br/tramita/consulta...</td>\n",
              "    </tr>\n",
              "    <tr>\n",
              "      <th>224227</th>\n",
              "      <td>Doc. 25472/20</td>\n",
              "      <td>00002/2020</td>\n",
              "      <td>Dispensa COVID-19 (Art. 4º da Lei 13.979/2020)</td>\n",
              "      <td>João Pessoa</td>\n",
              "      <td>609095</td>\n",
              "      <td>1010</td>\n",
              "      <td>Fundo Municipal de Assistência Social de João ...</td>\n",
              "      <td>Fundo</td>\n",
              "      <td>Indireta</td>\n",
              "      <td>Municipal</td>\n",
              "      <td>CONTRATAÇÃO DE EMPRESA ESPECIALIZADA PARA AQUI...</td>\n",
              "      <td>R$ nan</td>\n",
              "      <td>R$ 12,592.00</td>\n",
              "      <td>07/04/2020</td>\n",
              "      <td>2020</td>\n",
              "      <td>Não</td>\n",
              "      <td>Mais Comercio de Descartaveis Ltda</td>\n",
              "      <td>17178985000142</td>\n",
              "      <td>R$ 12,592.00</td>\n",
              "      <td>Vencedora</td>\n",
              "      <td>Formalizado</td>\n",
              "      <td>GUARDA TEMPORÁRIA</td>\n",
              "      <td>https://tramita.tce.pb.gov.br/tramita/consulta...</td>\n",
              "    </tr>\n",
              "    <tr>\n",
              "      <th>224252</th>\n",
              "      <td>Doc. 25481/20</td>\n",
              "      <td>00003/2020</td>\n",
              "      <td>Dispensa COVID-19 (Art. 4º da Lei 13.979/2020)</td>\n",
              "      <td>João Pessoa</td>\n",
              "      <td>609095</td>\n",
              "      <td>1010</td>\n",
              "      <td>Fundo Municipal de Assistência Social de João ...</td>\n",
              "      <td>Fundo</td>\n",
              "      <td>Indireta</td>\n",
              "      <td>Municipal</td>\n",
              "      <td>CONTRATAÇÃO DE EMPRESA ESPECIALIZADA PARA AQUI...</td>\n",
              "      <td>R$ nan</td>\n",
              "      <td>R$ 98,000.00</td>\n",
              "      <td>08/04/2020</td>\n",
              "      <td>2020</td>\n",
              "      <td>Não</td>\n",
              "      <td>Tutto Limp Distribuidora LTDA</td>\n",
              "      <td>05449553000140</td>\n",
              "      <td>R$ 98,000.00</td>\n",
              "      <td>Vencedora</td>\n",
              "      <td>Formalizado</td>\n",
              "      <td>GUARDA TEMPORÁRIA</td>\n",
              "      <td>https://tramita.tce.pb.gov.br/tramita/consulta...</td>\n",
              "    </tr>\n",
              "    <tr>\n",
              "      <th>224261</th>\n",
              "      <td>Doc. 25485/20</td>\n",
              "      <td>00004/2020</td>\n",
              "      <td>Dispensa COVID-19 (Art. 4º da Lei 13.979/2020)</td>\n",
              "      <td>João Pessoa</td>\n",
              "      <td>609095</td>\n",
              "      <td>1010</td>\n",
              "      <td>Fundo Municipal de Assistência Social de João ...</td>\n",
              "      <td>Fundo</td>\n",
              "      <td>Indireta</td>\n",
              "      <td>Municipal</td>\n",
              "      <td>CONTRATAÇÃO DE EMPRESA ESPECIALIZADA PARA AQUI...</td>\n",
              "      <td>R$ nan</td>\n",
              "      <td>R$ 13,450.00</td>\n",
              "      <td>08/04/2020</td>\n",
              "      <td>2020</td>\n",
              "      <td>Não</td>\n",
              "      <td>JSB DISTRIBUIDORA LTDA - ME</td>\n",
              "      <td>16693935000130</td>\n",
              "      <td>R$ 13,450.00</td>\n",
              "      <td>Vencedora</td>\n",
              "      <td>Formalizado</td>\n",
              "      <td>GUARDA TEMPORÁRIA</td>\n",
              "      <td>https://tramita.tce.pb.gov.br/tramita/consulta...</td>\n",
              "    </tr>\n",
              "    <tr>\n",
              "      <th>...</th>\n",
              "      <td>...</td>\n",
              "      <td>...</td>\n",
              "      <td>...</td>\n",
              "      <td>...</td>\n",
              "      <td>...</td>\n",
              "      <td>...</td>\n",
              "      <td>...</td>\n",
              "      <td>...</td>\n",
              "      <td>...</td>\n",
              "      <td>...</td>\n",
              "      <td>...</td>\n",
              "      <td>...</td>\n",
              "      <td>...</td>\n",
              "      <td>...</td>\n",
              "      <td>...</td>\n",
              "      <td>...</td>\n",
              "      <td>...</td>\n",
              "      <td>...</td>\n",
              "      <td>...</td>\n",
              "      <td>...</td>\n",
              "      <td>...</td>\n",
              "      <td>...</td>\n",
              "      <td>...</td>\n",
              "    </tr>\n",
              "    <tr>\n",
              "      <th>235325</th>\n",
              "      <td>Doc. 51791/20</td>\n",
              "      <td>00041/2020</td>\n",
              "      <td>Dispensa COVID-19 (Art. 4º da Lei 13.979/2020)</td>\n",
              "      <td>Juripiranga</td>\n",
              "      <td>601099</td>\n",
              "      <td>11268</td>\n",
              "      <td>Fundo Municipal de Saúde de Juripiranga</td>\n",
              "      <td>Fundo</td>\n",
              "      <td>Indireta</td>\n",
              "      <td>Municipal</td>\n",
              "      <td>Aquisição de Ar Condicionado Tipo Split, capac...</td>\n",
              "      <td>R$ nan</td>\n",
              "      <td>R$ 3,000.00</td>\n",
              "      <td>07/08/2020</td>\n",
              "      <td>2020</td>\n",
              "      <td>Não</td>\n",
              "      <td>THOMAS JOSE BELTRAO DE ARAUJO ALBUQUERQUE - ME</td>\n",
              "      <td>19918905000173</td>\n",
              "      <td>R$ 3,000.00</td>\n",
              "      <td>Vencedora</td>\n",
              "      <td>Formalizado</td>\n",
              "      <td>GUARDA TEMPORÁRIA</td>\n",
              "      <td>https://tramita.tce.pb.gov.br/tramita/consulta...</td>\n",
              "    </tr>\n",
              "    <tr>\n",
              "      <th>235326</th>\n",
              "      <td>Doc. 51802/20</td>\n",
              "      <td>00042/2020</td>\n",
              "      <td>Dispensa COVID-19 (Art. 4º da Lei 13.979/2020)</td>\n",
              "      <td>Juripiranga</td>\n",
              "      <td>601099</td>\n",
              "      <td>11268</td>\n",
              "      <td>Fundo Municipal de Saúde de Juripiranga</td>\n",
              "      <td>Fundo</td>\n",
              "      <td>Indireta</td>\n",
              "      <td>Municipal</td>\n",
              "      <td>Aquisição de 40 caixas de teste rápido, cada u...</td>\n",
              "      <td>R$ nan</td>\n",
              "      <td>R$ 50,000.00</td>\n",
              "      <td>12/08/2020</td>\n",
              "      <td>2020</td>\n",
              "      <td>Não</td>\n",
              "      <td>ATACAMED COMÉRCIO DE PRODS FARMACÊUTICOS E HOS...</td>\n",
              "      <td>09260831000177</td>\n",
              "      <td>R$ 55,000.00</td>\n",
              "      <td>Perdedora</td>\n",
              "      <td>Formalizado</td>\n",
              "      <td>GUARDA TEMPORÁRIA</td>\n",
              "      <td>https://tramita.tce.pb.gov.br/tramita/consulta...</td>\n",
              "    </tr>\n",
              "    <tr>\n",
              "      <th>235327</th>\n",
              "      <td>Doc. 51802/20</td>\n",
              "      <td>00042/2020</td>\n",
              "      <td>Dispensa COVID-19 (Art. 4º da Lei 13.979/2020)</td>\n",
              "      <td>Juripiranga</td>\n",
              "      <td>601099</td>\n",
              "      <td>11268</td>\n",
              "      <td>Fundo Municipal de Saúde de Juripiranga</td>\n",
              "      <td>Fundo</td>\n",
              "      <td>Indireta</td>\n",
              "      <td>Municipal</td>\n",
              "      <td>Aquisição de 40 caixas de teste rápido, cada u...</td>\n",
              "      <td>R$ nan</td>\n",
              "      <td>R$ 50,000.00</td>\n",
              "      <td>12/08/2020</td>\n",
              "      <td>2020</td>\n",
              "      <td>Não</td>\n",
              "      <td>NACIONAL COMÉRCIO E REPRESENTAÇÃO LTDA</td>\n",
              "      <td>18588224000121</td>\n",
              "      <td>R$ 53,040.00</td>\n",
              "      <td>Perdedora</td>\n",
              "      <td>Formalizado</td>\n",
              "      <td>GUARDA TEMPORÁRIA</td>\n",
              "      <td>https://tramita.tce.pb.gov.br/tramita/consulta...</td>\n",
              "    </tr>\n",
              "    <tr>\n",
              "      <th>235328</th>\n",
              "      <td>Doc. 51802/20</td>\n",
              "      <td>00042/2020</td>\n",
              "      <td>Dispensa COVID-19 (Art. 4º da Lei 13.979/2020)</td>\n",
              "      <td>Juripiranga</td>\n",
              "      <td>601099</td>\n",
              "      <td>11268</td>\n",
              "      <td>Fundo Municipal de Saúde de Juripiranga</td>\n",
              "      <td>Fundo</td>\n",
              "      <td>Indireta</td>\n",
              "      <td>Municipal</td>\n",
              "      <td>Aquisição de 40 caixas de teste rápido, cada u...</td>\n",
              "      <td>R$ nan</td>\n",
              "      <td>R$ 50,000.00</td>\n",
              "      <td>12/08/2020</td>\n",
              "      <td>2020</td>\n",
              "      <td>Não</td>\n",
              "      <td>Saúde Médica Com. Ltda - EPP</td>\n",
              "      <td>01704290000117</td>\n",
              "      <td>R$ 50,000.00</td>\n",
              "      <td>Vencedora</td>\n",
              "      <td>Formalizado</td>\n",
              "      <td>GUARDA TEMPORÁRIA</td>\n",
              "      <td>https://tramita.tce.pb.gov.br/tramita/consulta...</td>\n",
              "    </tr>\n",
              "    <tr>\n",
              "      <th>235335</th>\n",
              "      <td>Doc. 51830/20</td>\n",
              "      <td>00024/2020</td>\n",
              "      <td>Dispensa COVID-19 (Art. 4º da Lei 13.979/2020)</td>\n",
              "      <td>Quixaba</td>\n",
              "      <td>201156</td>\n",
              "      <td>742</td>\n",
              "      <td>Prefeitura Municipal de Quixaba</td>\n",
              "      <td>Prefeitura</td>\n",
              "      <td>Direta</td>\n",
              "      <td>Municipal</td>\n",
              "      <td>Contratação de empresa para fornecimento de ma...</td>\n",
              "      <td>R$ nan</td>\n",
              "      <td>R$ 32,974.00</td>\n",
              "      <td>10/08/2020</td>\n",
              "      <td>2020</td>\n",
              "      <td>Não</td>\n",
              "      <td>FARMAGUEDES COMÉRCIO DE PRODUTOS FARMACÊUTICO ...</td>\n",
              "      <td>08160290000142</td>\n",
              "      <td>R$ 32,974.00</td>\n",
              "      <td>Vencedora</td>\n",
              "      <td>Formalizado</td>\n",
              "      <td>GUARDA TEMPORÁRIA</td>\n",
              "      <td>https://tramita.tce.pb.gov.br/tramita/consulta...</td>\n",
              "    </tr>\n",
              "  </tbody>\n",
              "</table>\n",
              "<p>1963 rows × 23 columns</p>\n",
              "</div>"
            ],
            "text/plain": [
              "       protocolo_licitacao  ...                                                url\n",
              "224214       Doc. 25381/20  ...  https://tramita.tce.pb.gov.br/tramita/consulta...\n",
              "224225       Doc. 25467/20  ...  https://tramita.tce.pb.gov.br/tramita/consulta...\n",
              "224227       Doc. 25472/20  ...  https://tramita.tce.pb.gov.br/tramita/consulta...\n",
              "224252       Doc. 25481/20  ...  https://tramita.tce.pb.gov.br/tramita/consulta...\n",
              "224261       Doc. 25485/20  ...  https://tramita.tce.pb.gov.br/tramita/consulta...\n",
              "...                    ...  ...                                                ...\n",
              "235325       Doc. 51791/20  ...  https://tramita.tce.pb.gov.br/tramita/consulta...\n",
              "235326       Doc. 51802/20  ...  https://tramita.tce.pb.gov.br/tramita/consulta...\n",
              "235327       Doc. 51802/20  ...  https://tramita.tce.pb.gov.br/tramita/consulta...\n",
              "235328       Doc. 51802/20  ...  https://tramita.tce.pb.gov.br/tramita/consulta...\n",
              "235335       Doc. 51830/20  ...  https://tramita.tce.pb.gov.br/tramita/consulta...\n",
              "\n",
              "[1963 rows x 23 columns]"
            ]
          },
          "metadata": {
            "tags": []
          },
          "execution_count": 209
        }
      ]
    },
    {
      "cell_type": "code",
      "metadata": {
        "id": "JrcyZVi1Tz3R",
        "colab_type": "code",
        "colab": {}
      },
      "source": [
        "df_lic_nome_cpf_prop.to_csv('df_lic_nome_cpf_prop.csv')"
      ],
      "execution_count": 201,
      "outputs": []
    },
    {
      "cell_type": "code",
      "metadata": {
        "id": "vbpsqzQFC-s4",
        "colab_type": "code",
        "colab": {}
      },
      "source": [
        "df_means=pd.DataFrame(df_lic_winer.groupby(['nome_municipio','nome_jurisdicionado']).mean()['valor_proposta'])"
      ],
      "execution_count": 202,
      "outputs": []
    },
    {
      "cell_type": "markdown",
      "metadata": {
        "id": "4C8kmDwNJcOl",
        "colab_type": "text"
      },
      "source": [
        "# Valor proposto com médias Medias , por nome de municipio e jurisdicionado"
      ]
    },
    {
      "cell_type": "code",
      "metadata": {
        "id": "vFhPLrfeAJeI",
        "colab_type": "code",
        "colab": {}
      },
      "source": [
        "df_all = pd.DataFrame(df_lic_winer.groupby(['nome_municipio','nome_jurisdicionado']).sum()['valor_proposta'])\n",
        "df_all['medias'] = df_means"
      ],
      "execution_count": null,
      "outputs": []
    },
    {
      "cell_type": "code",
      "metadata": {
        "id": "8XkfDk7sDk8v",
        "colab_type": "code",
        "colab": {}
      },
      "source": [
        "df_all.columns = ['valor proposta','medias']"
      ],
      "execution_count": null,
      "outputs": []
    },
    {
      "cell_type": "code",
      "metadata": {
        "id": "WL4ZwXppEhLP",
        "colab_type": "code",
        "colab": {}
      },
      "source": [
        "df_all.to_csv('df_mun_jurisdi.csv')"
      ],
      "execution_count": null,
      "outputs": []
    },
    {
      "cell_type": "code",
      "metadata": {
        "id": "4M3odK1mKOUA",
        "colab_type": "code",
        "colab": {
          "base_uri": "https://localhost:8080/",
          "height": 52
        },
        "outputId": "d877858d-0df1-4df0-f3e7-22b796d9c833"
      },
      "source": [
        "# ultima data de licitação\n",
        "df.data_homologacao_licitacao.values"
      ],
      "execution_count": null,
      "outputs": [
        {
          "output_type": "execute_result",
          "data": {
            "text/plain": [
              "array(['08/04/2020', '08/04/2020', '07/04/2020', ..., '13/08/2020',\n",
              "       '13/08/2020', '13/08/2020'], dtype=object)"
            ]
          },
          "metadata": {
            "tags": []
          },
          "execution_count": 112
        }
      ]
    },
    {
      "cell_type": "code",
      "metadata": {
        "id": "HqNQamcGPMoK",
        "colab_type": "code",
        "colab": {}
      },
      "source": [
        "df_type = pd.DataFrame(df_lic_winer.groupby('nome_tipo_administracao_jurisdicionado', as_index=False).mean()['valor_proposta'])"
      ],
      "execution_count": null,
      "outputs": []
    },
    {
      "cell_type": "code",
      "metadata": {
        "id": "4A3zq8dUQjdz",
        "colab_type": "code",
        "colab": {}
      },
      "source": [
        "df_type.index = ['Direta', 'Indireta']\n",
        "df_type.columns = ['Valor proposto']"
      ],
      "execution_count": null,
      "outputs": []
    },
    {
      "cell_type": "code",
      "metadata": {
        "id": "Z9TYQzi6Q0lT",
        "colab_type": "code",
        "colab": {
          "base_uri": "https://localhost:8080/",
          "height": 112
        },
        "outputId": "1ff38f50-dfaf-4df0-86e3-bb57659754ac"
      },
      "source": [
        "df_type"
      ],
      "execution_count": null,
      "outputs": [
        {
          "output_type": "execute_result",
          "data": {
            "text/html": [
              "<div>\n",
              "<style scoped>\n",
              "    .dataframe tbody tr th:only-of-type {\n",
              "        vertical-align: middle;\n",
              "    }\n",
              "\n",
              "    .dataframe tbody tr th {\n",
              "        vertical-align: top;\n",
              "    }\n",
              "\n",
              "    .dataframe thead th {\n",
              "        text-align: right;\n",
              "    }\n",
              "</style>\n",
              "<table border=\"1\" class=\"dataframe\">\n",
              "  <thead>\n",
              "    <tr style=\"text-align: right;\">\n",
              "      <th></th>\n",
              "      <th>Valor proposto</th>\n",
              "    </tr>\n",
              "  </thead>\n",
              "  <tbody>\n",
              "    <tr>\n",
              "      <th>Direta</th>\n",
              "      <td>R$ 398,110.94</td>\n",
              "    </tr>\n",
              "    <tr>\n",
              "      <th>Indireta</th>\n",
              "      <td>R$ 152,089.10</td>\n",
              "    </tr>\n",
              "  </tbody>\n",
              "</table>\n",
              "</div>"
            ],
            "text/plain": [
              "          Valor proposto\n",
              "Direta     R$ 398,110.94\n",
              "Indireta   R$ 152,089.10"
            ]
          },
          "metadata": {
            "tags": []
          },
          "execution_count": 172
        }
      ]
    },
    {
      "cell_type": "markdown",
      "metadata": {
        "id": "cZPgmnSqkL9x",
        "colab_type": "text"
      },
      "source": [
        "# Aplicando benford"
      ]
    },
    {
      "cell_type": "code",
      "metadata": {
        "id": "8EwgazNsdMHX",
        "colab_type": "code",
        "colab": {
          "base_uri": "https://localhost:8080/",
          "height": 330
        },
        "outputId": "31cf5429-d987-4f38-a115-3781ede678ac"
      },
      "source": [
        "pip install benford_py"
      ],
      "execution_count": 210,
      "outputs": [
        {
          "output_type": "stream",
          "text": [
            "Collecting benford_py\n",
            "  Downloading https://files.pythonhosted.org/packages/14/3a/d30f61253eb8c4f50c5b758e2fa7145cda09411d4285be5ebb20c6fdd6cb/benford_py-0.2.7.tar.gz\n",
            "Requirement already satisfied: pandas in /usr/local/lib/python3.6/dist-packages (from benford_py) (1.0.5)\n",
            "Requirement already satisfied: numpy in /usr/local/lib/python3.6/dist-packages (from benford_py) (1.18.5)\n",
            "Requirement already satisfied: matplotlib in /usr/local/lib/python3.6/dist-packages (from benford_py) (3.2.2)\n",
            "Requirement already satisfied: python-dateutil>=2.6.1 in /usr/local/lib/python3.6/dist-packages (from pandas->benford_py) (2.8.1)\n",
            "Requirement already satisfied: pytz>=2017.2 in /usr/local/lib/python3.6/dist-packages (from pandas->benford_py) (2018.9)\n",
            "Requirement already satisfied: kiwisolver>=1.0.1 in /usr/local/lib/python3.6/dist-packages (from matplotlib->benford_py) (1.2.0)\n",
            "Requirement already satisfied: cycler>=0.10 in /usr/local/lib/python3.6/dist-packages (from matplotlib->benford_py) (0.10.0)\n",
            "Requirement already satisfied: pyparsing!=2.0.4,!=2.1.2,!=2.1.6,>=2.0.1 in /usr/local/lib/python3.6/dist-packages (from matplotlib->benford_py) (2.4.7)\n",
            "Requirement already satisfied: six>=1.5 in /usr/local/lib/python3.6/dist-packages (from python-dateutil>=2.6.1->pandas->benford_py) (1.15.0)\n",
            "Building wheels for collected packages: benford-py\n",
            "  Building wheel for benford-py (setup.py) ... \u001b[?25l\u001b[?25hdone\n",
            "  Created wheel for benford-py: filename=benford_py-0.2.7-cp36-none-any.whl size=24791 sha256=3917cb669b482fb8f6c3d8e6a79af7f745062b43926ce1643be13e04a4fe965b\n",
            "  Stored in directory: /root/.cache/pip/wheels/93/82/05/cdea70073a8625826e7d2a443a24fca408c95c07a6b31df125\n",
            "Successfully built benford-py\n",
            "Installing collected packages: benford-py\n",
            "Successfully installed benford-py-0.2.7\n"
          ],
          "name": "stdout"
        }
      ]
    },
    {
      "cell_type": "code",
      "metadata": {
        "id": "0ZwroLGLk8dw",
        "colab_type": "code",
        "colab": {
          "base_uri": "https://localhost:8080/",
          "height": 382
        },
        "outputId": "7b3af498-aafa-4723-e46b-7887190166ae"
      },
      "source": [
        "pip install benfordslaw"
      ],
      "execution_count": 212,
      "outputs": [
        {
          "output_type": "stream",
          "text": [
            "Collecting benfordslaw\n",
            "  Downloading https://files.pythonhosted.org/packages/97/bd/a940d1040ce446e77eff2421ef7603ee0ca0af5c4800c43e8cb906410fb1/benfordslaw-0.1.3-py3-none-any.whl\n",
            "Requirement already satisfied: matplotlib in /usr/local/lib/python3.6/dist-packages (from benfordslaw) (3.2.2)\n",
            "Collecting wget\n",
            "  Downloading https://files.pythonhosted.org/packages/47/6a/62e288da7bcda82b935ff0c6cfe542970f04e29c756b0e147251b2fb251f/wget-3.2.zip\n",
            "Requirement already satisfied: scipy in /usr/local/lib/python3.6/dist-packages (from benfordslaw) (1.4.1)\n",
            "Requirement already satisfied: numpy in /usr/local/lib/python3.6/dist-packages (from benfordslaw) (1.18.5)\n",
            "Requirement already satisfied: pandas in /usr/local/lib/python3.6/dist-packages (from benfordslaw) (1.0.5)\n",
            "Requirement already satisfied: pyparsing!=2.0.4,!=2.1.2,!=2.1.6,>=2.0.1 in /usr/local/lib/python3.6/dist-packages (from matplotlib->benfordslaw) (2.4.7)\n",
            "Requirement already satisfied: cycler>=0.10 in /usr/local/lib/python3.6/dist-packages (from matplotlib->benfordslaw) (0.10.0)\n",
            "Requirement already satisfied: python-dateutil>=2.1 in /usr/local/lib/python3.6/dist-packages (from matplotlib->benfordslaw) (2.8.1)\n",
            "Requirement already satisfied: kiwisolver>=1.0.1 in /usr/local/lib/python3.6/dist-packages (from matplotlib->benfordslaw) (1.2.0)\n",
            "Requirement already satisfied: pytz>=2017.2 in /usr/local/lib/python3.6/dist-packages (from pandas->benfordslaw) (2018.9)\n",
            "Requirement already satisfied: six in /usr/local/lib/python3.6/dist-packages (from cycler>=0.10->matplotlib->benfordslaw) (1.15.0)\n",
            "Building wheels for collected packages: wget\n",
            "  Building wheel for wget (setup.py) ... \u001b[?25l\u001b[?25hdone\n",
            "  Created wheel for wget: filename=wget-3.2-cp36-none-any.whl size=9682 sha256=f95800c8687790c9304a95963121d5fffa649435220967a1d1f54d3b8eadbdc8\n",
            "  Stored in directory: /root/.cache/pip/wheels/40/15/30/7d8f7cea2902b4db79e3fea550d7d7b85ecb27ef992b618f3f\n",
            "Successfully built wget\n",
            "Installing collected packages: wget, benfordslaw\n",
            "Successfully installed benfordslaw-0.1.3 wget-3.2\n"
          ],
          "name": "stdout"
        }
      ]
    },
    {
      "cell_type": "code",
      "metadata": {
        "id": "J1MqPpLQk6et",
        "colab_type": "code",
        "colab": {}
      },
      "source": [
        "import benfordslaw as bl\n",
        "import pandas as pd"
      ],
      "execution_count": 213,
      "outputs": []
    },
    {
      "cell_type": "code",
      "metadata": {
        "id": "w09zOFbEk25a",
        "colab_type": "code",
        "colab": {
          "base_uri": "https://localhost:8080/",
          "height": 260
        },
        "outputId": "dcb89997-f5f2-4863-9275-5649824e862f"
      },
      "source": [
        "X = df.valor_licitado_licitacao.values\n",
        "bl.fit(X)\n",
        "# Há indicios que pode ter ocorrido "
      ],
      "execution_count": 216,
      "outputs": [
        {
          "output_type": "stream",
          "text": [
            "[benfordslaw] >[chi2] Anomaly detected! P=0.0450266, Tstat=15.8202\n"
          ],
          "name": "stdout"
        },
        {
          "output_type": "execute_result",
          "data": {
            "text/plain": [
              "{'P': 0.045026593097741735,\n",
              " 'alpha': 0.05,\n",
              " 'method': 'chi2',\n",
              " 'percentage_emp': array([[ 1.        , 29.90320937],\n",
              "        [ 2.        , 17.67702496],\n",
              "        [ 3.        , 12.22618441],\n",
              "        [ 4.        , 11.46204789],\n",
              "        [ 5.        ,  8.96586857],\n",
              "        [ 6.        ,  5.85838003],\n",
              "        [ 7.        ,  5.19612837],\n",
              "        [ 8.        ,  4.22822211],\n",
              "        [ 9.        ,  4.48293428]]),\n",
              " 't': 15.820233767212745}"
            ]
          },
          "metadata": {
            "tags": []
          },
          "execution_count": 216
        }
      ]
    },
    {
      "cell_type": "code",
      "metadata": {
        "id": "8iTvaieylchH",
        "colab_type": "code",
        "colab": {}
      },
      "source": [
        "import benford as bf"
      ],
      "execution_count": 219,
      "outputs": []
    },
    {
      "cell_type": "code",
      "metadata": {
        "id": "IzjeIbqEmdmc",
        "colab_type": "code",
        "colab": {}
      },
      "source": [
        "#  Vencedor, apenas"
      ],
      "execution_count": 229,
      "outputs": []
    },
    {
      "cell_type": "code",
      "metadata": {
        "id": "bdnjfbr2nW0n",
        "colab_type": "code",
        "colab": {}
      },
      "source": [
        "valor"
      ],
      "execution_count": null,
      "outputs": []
    },
    {
      "cell_type": "code",
      "metadata": {
        "id": "IQcH14ZOnTkg",
        "colab_type": "code",
        "colab": {}
      },
      "source": [
        "X = df_lic_winer.valor_licitado_licitacao.values"
      ],
      "execution_count": 232,
      "outputs": []
    },
    {
      "cell_type": "code",
      "metadata": {
        "id": "Zsv3his5kOhP",
        "colab_type": "code",
        "colab": {
          "base_uri": "https://localhost:8080/",
          "height": 1000
        },
        "outputId": "daa3ae75-dda6-4ba4-af72-5fd5ce372117"
      },
      "source": [
        "pd.options.display.float_format = '{:,.2f}'.format\n",
        "model = bf.first_digits(X, digs=2, decimals=8, confidence=99)"
      ],
      "execution_count": 233,
      "outputs": [
        {
          "output_type": "stream",
          "text": [
            "\n",
            "Initialized sequence with 1234 registries.\n",
            "First_2_Dig\n",
            "10   0.05\n",
            "11   0.03\n",
            "12   0.03\n",
            "13   0.03\n",
            "14   0.03\n",
            "     ... \n",
            "95   0.00\n",
            "96   0.00\n",
            "97   0.01\n",
            "98   0.01\n",
            "99   0.01\n",
            "Name: Found, Length: 90, dtype: float64\n",
            "\n",
            "Test performed on 1234 registries.\n",
            "Discarded 0 records < 10 after preparation.\n",
            "\n",
            "The entries with the significant positive deviations are:\n",
            "\n",
            "             Expected  Found  Z_score\n",
            "First_2_Dig                          \n",
            "24               0.02   0.03     3.59\n",
            "49               0.01   0.02     3.56\n",
            "99               0.00   0.01     3.50\n",
            "73               0.01   0.01     3.05\n"
          ],
          "name": "stdout"
        },
        {
          "output_type": "display_data",
          "data": {
            "image/png": "[encoded data removed]",
            "text/plain": [
              "<Figure size 1296x972 with 1 Axes>"
            ]
          },
          "metadata": {
            "tags": [],
            "needs_background": "light"
          }
        }
      ]
    },
    {
      "cell_type": "code",
      "metadata": {
        "id": "__9-ujrboE4X",
        "colab_type": "code",
        "colab": {
          "base_uri": "https://localhost:8080/",
          "height": 175
        },
        "outputId": "d878f6c7-a5d9-4d3a-bfd3-32ccf53cc5a2"
      },
      "source": [
        "\n",
        "def test(x):\n",
        "  return x[:2] in ['24','49','73','99']\n",
        "\n",
        "df_lic_winer[df_lic_winer.valor_licitado_licitacao.astype(str).apply(test)].cpf_cnpj_proponente[['nome_prop']].value_counts()"
      ],
      "execution_count": 257,
      "outputs": [
        {
          "output_type": "execute_result",
          "data": {
            "text/html": [
              "<div>\n",
              "<style scoped>\n",
              "    .dataframe tbody tr th:only-of-type {\n",
              "        vertical-align: middle;\n",
              "    }\n",
              "\n",
              "    .dataframe tbody tr th {\n",
              "        vertical-align: top;\n",
              "    }\n",
              "\n",
              "    .dataframe thead th {\n",
              "        text-align: right;\n",
              "    }\n",
              "</style>\n",
              "<table border=\"1\" class=\"dataframe\">\n",
              "  <thead>\n",
              "    <tr style=\"text-align: right;\">\n",
              "      <th></th>\n",
              "      <th>nome_proponente</th>\n",
              "      <th>cpf_cnpj_proponente</th>\n",
              "    </tr>\n",
              "  </thead>\n",
              "  <tbody>\n",
              "    <tr>\n",
              "      <th>count</th>\n",
              "      <td>92</td>\n",
              "      <td>92</td>\n",
              "    </tr>\n",
              "    <tr>\n",
              "      <th>unique</th>\n",
              "      <td>78</td>\n",
              "      <td>78</td>\n",
              "    </tr>\n",
              "    <tr>\n",
              "      <th>top</th>\n",
              "      <td>Saúde Médica Com. Ltda - EPP</td>\n",
              "      <td>15218561000139</td>\n",
              "    </tr>\n",
              "    <tr>\n",
              "      <th>freq</th>\n",
              "      <td>3</td>\n",
              "      <td>3</td>\n",
              "    </tr>\n",
              "  </tbody>\n",
              "</table>\n",
              "</div>"
            ],
            "text/plain": [
              "                     nome_proponente cpf_cnpj_proponente\n",
              "count                             92                  92\n",
              "unique                            78                  78\n",
              "top     Saúde Médica Com. Ltda - EPP      15218561000139\n",
              "freq                               3                   3"
            ]
          },
          "metadata": {
            "tags": []
          },
          "execution_count": 257
        }
      ]
    },
    {
      "cell_type": "code",
      "metadata": {
        "id": "t8nQVRAfqUjM",
        "colab_type": "code",
        "colab": {
          "base_uri": "https://localhost:8080/",
          "height": 34
        },
        "outputId": "98dfd0ac-ffaa-4631-857a-421ca49c0c97"
      },
      "source": [
        "\n",
        "df_lic_winer[df_lic_winer.cpf_cnpj_proponente == '08397547000184'].valor_licitado_licitacao.sum()"
      ],
      "execution_count": 272,
      "outputs": [
        {
          "output_type": "execute_result",
          "data": {
            "text/plain": [
              "366940.0"
            ]
          },
          "metadata": {
            "tags": []
          },
          "execution_count": 272
        }
      ]
    },
    {
      "cell_type": "code",
      "metadata": {
        "id": "bUQS07FMpeYk",
        "colab_type": "code",
        "colab": {}
      },
      "source": [
        ""
      ],
      "execution_count": null,
      "outputs": []
    }
  ]
}