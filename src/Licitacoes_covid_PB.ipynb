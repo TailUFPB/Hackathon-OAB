{
 "cells": [
  {
   "cell_type": "code",
   "execution_count": 1,
   "metadata": {},
   "outputs": [],
   "source": [
    "# Importação de bibliotecas e módulos\n",
    "import pandas as pd\n",
    "import numpy as npb\n",
    "import matplotlib.pyplot as plt\n",
    "%matplotlib inline"
   ]
  },
  {
   "cell_type": "markdown",
   "metadata": {},
   "source": [
    "## Leitura dos dados"
   ]
  },
  {
   "cell_type": "code",
   "execution_count": 2,
   "metadata": {},
   "outputs": [],
   "source": [
    "df_Licitacoes = pd.read_csv('../data/TCE-PB-Portal-Gestor-Licitacoes_Propostas.txt.gz', compression='gzip', \n",
    "                            sep='|', low_memory=False)"
   ]
  },
  {
   "cell_type": "markdown",
   "metadata": {},
   "source": [
    "### Nome das Colunas"
   ]
  },
  {
   "cell_type": "code",
   "execution_count": 3,
   "metadata": {},
   "outputs": [
    {
     "name": "stdout",
     "output_type": "stream",
     "text": [
      "['protocolo_licitacao' 'numero_licitacao' 'nome_modalidade_licitacao'\n",
      " 'nome_municipio' 'cd_ugestora' 'jurisdicionado_id' 'nome_jurisdicionado'\n",
      " 'nome_tipo_jurisdicionado' 'nome_tipo_administracao_jurisdicionado'\n",
      " 'nome_esfera_jurisdicionado' 'objeto_licitacao'\n",
      " 'valor_estimado_licitacao' 'valor_licitado_licitacao'\n",
      " 'data_homologacao_licitacao' 'ano_homologacao_licitacao'\n",
      " 'situacao_fracassada_licitacao' 'nome_proponente' 'cpf_cnpj_proponente'\n",
      " 'valor_proposta' 'situacao_proposta' 'nome_estagio_processual_licitacao'\n",
      " 'nome_setor_atual_licitacao' 'url']\n"
     ]
    }
   ],
   "source": [
    "#len(df_Licitacoes[df_Licitacoes['objeto_licitacao'].str.contains(\"COVID\")])\n",
    "print(df_Licitacoes.columns.values)\n",
    "#df_Licitacoes['objeto_licitacao']"
   ]
  },
  {
   "cell_type": "markdown",
   "metadata": {},
   "source": [
    "### Tipos de modalidades"
   ]
  },
  {
   "cell_type": "code",
   "execution_count": 4,
   "metadata": {
    "scrolled": false
   },
   "outputs": [
    {
     "data": {
      "text/plain": [
       "array(['Pregão Presencial', 'Convite', 'Tomada de Preço',\n",
       "       'Inexigibilidade', 'Dispensa (Art. 24 - Lei 8.666/93)',\n",
       "       'Chamada Pública', 'Pregão Eletrônico', 'Leilão',\n",
       "       'Adesão a Ata de Registro de Preços', 'Concorrência', 'Concurso',\n",
       "       'Dispensada (Art. 17 - Lei 8.666/93)',\n",
       "       'RDC - Regime Diferenciado de Contratações Públicas',\n",
       "       'Licitação da Lei Nº 13.303/2016',\n",
       "       'Licitação da Lei Nº 13.303/2016 (Art. 29 ou 30)',\n",
       "       'Licitação Internacional (GN 2350-9)',\n",
       "       'Contratação Emergencial de Organização (Art. 12, II da Lei Nº 9.454/2011)',\n",
       "       'Dispensa COVID-19 (Art. 4º da Lei 13.979/2020)'], dtype=object)"
      ]
     },
     "execution_count": 4,
     "metadata": {},
     "output_type": "execute_result"
    }
   ],
   "source": [
    "df_Licitacoes['nome_modalidade_licitacao'].unique()"
   ]
  },
  {
   "cell_type": "markdown",
   "metadata": {},
   "source": [
    "## Licitações modalidade Covid-19"
   ]
  },
  {
   "cell_type": "code",
   "execution_count": 5,
   "metadata": {},
   "outputs": [
    {
     "data": {
      "text/plain": [
       "1963"
      ]
     },
     "execution_count": 5,
     "metadata": {},
     "output_type": "execute_result"
    }
   ],
   "source": [
    "df_LicitacoesModCovid = df_Licitacoes[df_Licitacoes['nome_modalidade_licitacao'] == 'Dispensa COVID-19 (Art. 4º da Lei 13.979/2020)']\n",
    "len(df_LicitacoesModCovid)"
   ]
  },
  {
   "cell_type": "markdown",
   "metadata": {},
   "source": [
    "## Licitações que tem objeto Covid-19"
   ]
  },
  {
   "cell_type": "code",
   "execution_count": 6,
   "metadata": {},
   "outputs": [
    {
     "data": {
      "text/plain": [
       "788"
      ]
     },
     "execution_count": 6,
     "metadata": {},
     "output_type": "execute_result"
    }
   ],
   "source": [
    "df_LicitacoesNotCovid = df_Licitacoes[df_Licitacoes['nome_modalidade_licitacao'] \n",
    "                                                      != 'Dispensa COVID-19 (Art. 4º da Lei 13.979/2020)']\n",
    "\n",
    "df_LicitacoesNotCovid = df_LicitacoesNotCovid[df_LicitacoesNotCovid['objeto_licitacao'].str.contains(\"covid\", case=False)]\n",
    "len(df_LicitacoesNotCovid)"
   ]
  },
  {
   "cell_type": "code",
   "execution_count": 7,
   "metadata": {},
   "outputs": [
    {
     "data": {
      "text/html": [
       "<div>\n",
       "<style scoped>\n",
       "    .dataframe tbody tr th:only-of-type {\n",
       "        vertical-align: middle;\n",
       "    }\n",
       "\n",
       "    .dataframe tbody tr th {\n",
       "        vertical-align: top;\n",
       "    }\n",
       "\n",
       "    .dataframe thead th {\n",
       "        text-align: right;\n",
       "    }\n",
       "</style>\n",
       "<table border=\"1\" class=\"dataframe\">\n",
       "  <thead>\n",
       "    <tr style=\"text-align: right;\">\n",
       "      <th></th>\n",
       "      <th>protocolo_licitacao</th>\n",
       "      <th>numero_licitacao</th>\n",
       "      <th>nome_modalidade_licitacao</th>\n",
       "      <th>nome_municipio</th>\n",
       "      <th>cd_ugestora</th>\n",
       "      <th>jurisdicionado_id</th>\n",
       "      <th>nome_jurisdicionado</th>\n",
       "      <th>nome_tipo_jurisdicionado</th>\n",
       "      <th>nome_tipo_administracao_jurisdicionado</th>\n",
       "      <th>nome_esfera_jurisdicionado</th>\n",
       "      <th>objeto_licitacao</th>\n",
       "      <th>valor_estimado_licitacao</th>\n",
       "      <th>valor_licitado_licitacao</th>\n",
       "      <th>data_homologacao_licitacao</th>\n",
       "      <th>ano_homologacao_licitacao</th>\n",
       "      <th>situacao_fracassada_licitacao</th>\n",
       "      <th>nome_proponente</th>\n",
       "      <th>cpf_cnpj_proponente</th>\n",
       "      <th>valor_proposta</th>\n",
       "      <th>situacao_proposta</th>\n",
       "      <th>nome_estagio_processual_licitacao</th>\n",
       "      <th>nome_setor_atual_licitacao</th>\n",
       "      <th>url</th>\n",
       "    </tr>\n",
       "  </thead>\n",
       "  <tbody>\n",
       "    <tr>\n",
       "      <th>224214</th>\n",
       "      <td>Doc. 25381/20</td>\n",
       "      <td>00004/2020</td>\n",
       "      <td>Dispensa COVID-19 (Art. 4º da Lei 13.979/2020)</td>\n",
       "      <td>São José de Espinharas</td>\n",
       "      <td>201187</td>\n",
       "      <td>774</td>\n",
       "      <td>Prefeitura Municipal de São José de Espinharas</td>\n",
       "      <td>Prefeitura</td>\n",
       "      <td>Direta</td>\n",
       "      <td>Municipal</td>\n",
       "      <td>Aquisição de Cestas básicas a atender o enfretamento da Pandemia do COVID-19, para o município de São José de Espinharas-PB</td>\n",
       "      <td>NaN</td>\n",
       "      <td>35328.0</td>\n",
       "      <td>08/04/2020</td>\n",
       "      <td>2020</td>\n",
       "      <td>Não</td>\n",
       "      <td>BETHOVEN DOS SANTOS DA SILVA</td>\n",
       "      <td>09323745000166</td>\n",
       "      <td>35328.0</td>\n",
       "      <td>Vencedora</td>\n",
       "      <td>Formalizado</td>\n",
       "      <td>GUARDA TEMPORÁRIA</td>\n",
       "      <td>https://tramita.tce.pb.gov.br/tramita/consultatramitacao?documento=25381_20</td>\n",
       "    </tr>\n",
       "    <tr>\n",
       "      <th>224225</th>\n",
       "      <td>Doc. 25467/20</td>\n",
       "      <td>00001/2020</td>\n",
       "      <td>Dispensa COVID-19 (Art. 4º da Lei 13.979/2020)</td>\n",
       "      <td>João Pessoa</td>\n",
       "      <td>609095</td>\n",
       "      <td>1010</td>\n",
       "      <td>Fundo Municipal de Assistência Social de João Pessoa</td>\n",
       "      <td>Fundo</td>\n",
       "      <td>Indireta</td>\n",
       "      <td>Municipal</td>\n",
       "      <td>CONTRATAÇÃO DE EMPRESA ESPECIALIZADA PARA AQUISIÇÃO DE MARMITAS E COPOS DESCARTÁVEIS, CONFORME PROCESSO Nº 2020/033239</td>\n",
       "      <td>NaN</td>\n",
       "      <td>30212.6</td>\n",
       "      <td>08/04/2020</td>\n",
       "      <td>2020</td>\n",
       "      <td>Não</td>\n",
       "      <td>Mais Comercio de Descartaveis Ltda</td>\n",
       "      <td>17178985000142</td>\n",
       "      <td>30112.6</td>\n",
       "      <td>Vencedora</td>\n",
       "      <td>Formalizado</td>\n",
       "      <td>GUARDA TEMPORÁRIA</td>\n",
       "      <td>https://tramita.tce.pb.gov.br/tramita/consultatramitacao?documento=25467_20</td>\n",
       "    </tr>\n",
       "    <tr>\n",
       "      <th>224227</th>\n",
       "      <td>Doc. 25472/20</td>\n",
       "      <td>00002/2020</td>\n",
       "      <td>Dispensa COVID-19 (Art. 4º da Lei 13.979/2020)</td>\n",
       "      <td>João Pessoa</td>\n",
       "      <td>609095</td>\n",
       "      <td>1010</td>\n",
       "      <td>Fundo Municipal de Assistência Social de João Pessoa</td>\n",
       "      <td>Fundo</td>\n",
       "      <td>Indireta</td>\n",
       "      <td>Municipal</td>\n",
       "      <td>CONTRATAÇÃO DE EMPRESA ESPECIALIZADA PARA AQUISIÇÃO DE MATERIAIS DESCARTÁVEIS, CONFORME PROCESSO Nº 2020/033236</td>\n",
       "      <td>NaN</td>\n",
       "      <td>12592.0</td>\n",
       "      <td>07/04/2020</td>\n",
       "      <td>2020</td>\n",
       "      <td>Não</td>\n",
       "      <td>Mais Comercio de Descartaveis Ltda</td>\n",
       "      <td>17178985000142</td>\n",
       "      <td>12592.0</td>\n",
       "      <td>Vencedora</td>\n",
       "      <td>Formalizado</td>\n",
       "      <td>GUARDA TEMPORÁRIA</td>\n",
       "      <td>https://tramita.tce.pb.gov.br/tramita/consultatramitacao?documento=25472_20</td>\n",
       "    </tr>\n",
       "    <tr>\n",
       "      <th>224252</th>\n",
       "      <td>Doc. 25481/20</td>\n",
       "      <td>00003/2020</td>\n",
       "      <td>Dispensa COVID-19 (Art. 4º da Lei 13.979/2020)</td>\n",
       "      <td>João Pessoa</td>\n",
       "      <td>609095</td>\n",
       "      <td>1010</td>\n",
       "      <td>Fundo Municipal de Assistência Social de João Pessoa</td>\n",
       "      <td>Fundo</td>\n",
       "      <td>Indireta</td>\n",
       "      <td>Municipal</td>\n",
       "      <td>CONTRATAÇÃO DE EMPRESA ESPECIALIZADA PARA AQUISIÇÃO DE ÁLCOOL EM GEL 70%, CONFORME PROCESSO Nº 2020/033242</td>\n",
       "      <td>NaN</td>\n",
       "      <td>98000.0</td>\n",
       "      <td>08/04/2020</td>\n",
       "      <td>2020</td>\n",
       "      <td>Não</td>\n",
       "      <td>Tutto Limp Distribuidora LTDA</td>\n",
       "      <td>05449553000140</td>\n",
       "      <td>98000.0</td>\n",
       "      <td>Vencedora</td>\n",
       "      <td>Formalizado</td>\n",
       "      <td>GUARDA TEMPORÁRIA</td>\n",
       "      <td>https://tramita.tce.pb.gov.br/tramita/consultatramitacao?documento=25481_20</td>\n",
       "    </tr>\n",
       "    <tr>\n",
       "      <th>224261</th>\n",
       "      <td>Doc. 25485/20</td>\n",
       "      <td>00004/2020</td>\n",
       "      <td>Dispensa COVID-19 (Art. 4º da Lei 13.979/2020)</td>\n",
       "      <td>João Pessoa</td>\n",
       "      <td>609095</td>\n",
       "      <td>1010</td>\n",
       "      <td>Fundo Municipal de Assistência Social de João Pessoa</td>\n",
       "      <td>Fundo</td>\n",
       "      <td>Indireta</td>\n",
       "      <td>Municipal</td>\n",
       "      <td>CONTRATAÇÃO DE EMPRESA ESPECIALIZADA PARA AQUISIÇÃO DE MATERIAL DE HIGIENE E LIMPEZA, CONFORME PROCESSO Nº 2020/033240</td>\n",
       "      <td>NaN</td>\n",
       "      <td>13450.0</td>\n",
       "      <td>08/04/2020</td>\n",
       "      <td>2020</td>\n",
       "      <td>Não</td>\n",
       "      <td>JSB DISTRIBUIDORA LTDA - ME</td>\n",
       "      <td>16693935000130</td>\n",
       "      <td>13450.0</td>\n",
       "      <td>Vencedora</td>\n",
       "      <td>Formalizado</td>\n",
       "      <td>GUARDA TEMPORÁRIA</td>\n",
       "      <td>https://tramita.tce.pb.gov.br/tramita/consultatramitacao?documento=25485_20</td>\n",
       "    </tr>\n",
       "  </tbody>\n",
       "</table>\n",
       "</div>"
      ],
      "text/plain": [
       "       protocolo_licitacao numero_licitacao  \\\n",
       "224214       Doc. 25381/20       00004/2020   \n",
       "224225       Doc. 25467/20       00001/2020   \n",
       "224227       Doc. 25472/20       00002/2020   \n",
       "224252       Doc. 25481/20       00003/2020   \n",
       "224261       Doc. 25485/20       00004/2020   \n",
       "\n",
       "                             nome_modalidade_licitacao  \\\n",
       "224214  Dispensa COVID-19 (Art. 4º da Lei 13.979/2020)   \n",
       "224225  Dispensa COVID-19 (Art. 4º da Lei 13.979/2020)   \n",
       "224227  Dispensa COVID-19 (Art. 4º da Lei 13.979/2020)   \n",
       "224252  Dispensa COVID-19 (Art. 4º da Lei 13.979/2020)   \n",
       "224261  Dispensa COVID-19 (Art. 4º da Lei 13.979/2020)   \n",
       "\n",
       "                nome_municipio  cd_ugestora  jurisdicionado_id  \\\n",
       "224214  São José de Espinharas       201187                774   \n",
       "224225             João Pessoa       609095               1010   \n",
       "224227             João Pessoa       609095               1010   \n",
       "224252             João Pessoa       609095               1010   \n",
       "224261             João Pessoa       609095               1010   \n",
       "\n",
       "                                         nome_jurisdicionado  \\\n",
       "224214        Prefeitura Municipal de São José de Espinharas   \n",
       "224225  Fundo Municipal de Assistência Social de João Pessoa   \n",
       "224227  Fundo Municipal de Assistência Social de João Pessoa   \n",
       "224252  Fundo Municipal de Assistência Social de João Pessoa   \n",
       "224261  Fundo Municipal de Assistência Social de João Pessoa   \n",
       "\n",
       "       nome_tipo_jurisdicionado nome_tipo_administracao_jurisdicionado  \\\n",
       "224214               Prefeitura                                 Direta   \n",
       "224225                    Fundo                               Indireta   \n",
       "224227                    Fundo                               Indireta   \n",
       "224252                    Fundo                               Indireta   \n",
       "224261                    Fundo                               Indireta   \n",
       "\n",
       "       nome_esfera_jurisdicionado  \\\n",
       "224214                  Municipal   \n",
       "224225                  Municipal   \n",
       "224227                  Municipal   \n",
       "224252                  Municipal   \n",
       "224261                  Municipal   \n",
       "\n",
       "                                                                                                                   objeto_licitacao  \\\n",
       "224214  Aquisição de Cestas básicas a atender o enfretamento da Pandemia do COVID-19, para o município de São José de Espinharas-PB   \n",
       "224225       CONTRATAÇÃO DE EMPRESA ESPECIALIZADA PARA AQUISIÇÃO DE MARMITAS E COPOS DESCARTÁVEIS, CONFORME PROCESSO Nº 2020/033239   \n",
       "224227              CONTRATAÇÃO DE EMPRESA ESPECIALIZADA PARA AQUISIÇÃO DE MATERIAIS DESCARTÁVEIS, CONFORME PROCESSO Nº 2020/033236   \n",
       "224252                   CONTRATAÇÃO DE EMPRESA ESPECIALIZADA PARA AQUISIÇÃO DE ÁLCOOL EM GEL 70%, CONFORME PROCESSO Nº 2020/033242   \n",
       "224261       CONTRATAÇÃO DE EMPRESA ESPECIALIZADA PARA AQUISIÇÃO DE MATERIAL DE HIGIENE E LIMPEZA, CONFORME PROCESSO Nº 2020/033240   \n",
       "\n",
       "        valor_estimado_licitacao  valor_licitado_licitacao  \\\n",
       "224214                       NaN                   35328.0   \n",
       "224225                       NaN                   30212.6   \n",
       "224227                       NaN                   12592.0   \n",
       "224252                       NaN                   98000.0   \n",
       "224261                       NaN                   13450.0   \n",
       "\n",
       "       data_homologacao_licitacao ano_homologacao_licitacao  \\\n",
       "224214                 08/04/2020                      2020   \n",
       "224225                 08/04/2020                      2020   \n",
       "224227                 07/04/2020                      2020   \n",
       "224252                 08/04/2020                      2020   \n",
       "224261                 08/04/2020                      2020   \n",
       "\n",
       "       situacao_fracassada_licitacao                     nome_proponente  \\\n",
       "224214                           Não        BETHOVEN DOS SANTOS DA SILVA   \n",
       "224225                           Não  Mais Comercio de Descartaveis Ltda   \n",
       "224227                           Não  Mais Comercio de Descartaveis Ltda   \n",
       "224252                           Não       Tutto Limp Distribuidora LTDA   \n",
       "224261                           Não         JSB DISTRIBUIDORA LTDA - ME   \n",
       "\n",
       "       cpf_cnpj_proponente  valor_proposta situacao_proposta  \\\n",
       "224214      09323745000166         35328.0         Vencedora   \n",
       "224225      17178985000142         30112.6         Vencedora   \n",
       "224227      17178985000142         12592.0         Vencedora   \n",
       "224252      05449553000140         98000.0         Vencedora   \n",
       "224261      16693935000130         13450.0         Vencedora   \n",
       "\n",
       "       nome_estagio_processual_licitacao nome_setor_atual_licitacao  \\\n",
       "224214                       Formalizado          GUARDA TEMPORÁRIA   \n",
       "224225                       Formalizado          GUARDA TEMPORÁRIA   \n",
       "224227                       Formalizado          GUARDA TEMPORÁRIA   \n",
       "224252                       Formalizado          GUARDA TEMPORÁRIA   \n",
       "224261                       Formalizado          GUARDA TEMPORÁRIA   \n",
       "\n",
       "                                                                                url  \n",
       "224214  https://tramita.tce.pb.gov.br/tramita/consultatramitacao?documento=25381_20  \n",
       "224225  https://tramita.tce.pb.gov.br/tramita/consultatramitacao?documento=25467_20  \n",
       "224227  https://tramita.tce.pb.gov.br/tramita/consultatramitacao?documento=25472_20  \n",
       "224252  https://tramita.tce.pb.gov.br/tramita/consultatramitacao?documento=25481_20  \n",
       "224261  https://tramita.tce.pb.gov.br/tramita/consultatramitacao?documento=25485_20  "
      ]
     },
     "execution_count": 7,
     "metadata": {},
     "output_type": "execute_result"
    }
   ],
   "source": [
    "df_Covid = pd.concat([df_LicitacoesModCovid, df_LicitacoesNotCovid])\n",
    "pd.set_option('display.max_columns', None)\n",
    "pd.options.display.max_colwidth = 1000\n",
    "\n",
    "df_Covid.head()"
   ]
  },
  {
   "cell_type": "code",
   "execution_count": 40,
   "metadata": {},
   "outputs": [
    {
     "data": {
      "text/plain": [
       "161"
      ]
     },
     "execution_count": 40,
     "metadata": {},
     "output_type": "execute_result"
    }
   ],
   "source": [
    "len(df_Covid['nome_municipio'].unique())"
   ]
  },
  {
   "cell_type": "code",
   "execution_count": 39,
   "metadata": {},
   "outputs": [
    {
     "data": {
      "text/plain": [
       "nome_municipio       nome_jurisdicionado                        \n",
       "Aguiar               Prefeitura Municipal de Aguiar                  22000.000000\n",
       "Alagoa Grande        Fundo Municipal de Saúde de Alagoa Grande      171728.529412\n",
       "Alagoa Nova          Prefeitura Municipal de Alagoa Nova            176000.000000\n",
       "Algodão de Jandaíra  Prefeitura Municipal de Algodão de Jandaíra     32652.820000\n",
       "Alhandra             Prefeitura Municipal de Alhandra                76000.000000\n",
       "Amparo               Prefeitura Municipal de Amparo                  20196.666667\n",
       "Aparecida            Prefeitura Municipal de Aparecida               96657.700000\n",
       "Araruna              Fundo Municipal de Saúde de Araruna             37250.000000\n",
       "                     Prefeitura Municipal de Araruna                366340.820000\n",
       "Araçagi              Prefeitura Municipal de Araçagi                 62292.500000\n",
       "Name: valor_proposta, dtype: float64"
      ]
     },
     "execution_count": 39,
     "metadata": {},
     "output_type": "execute_result"
    }
   ],
   "source": [
    "pd.set_option('display.max_rows', None)\n",
    "a=df_Covid.groupby(['nome_municipio', 'nome_jurisdicionado'])['valor_proposta'].mean()\n",
    "a.head(10)"
   ]
  },
  {
   "cell_type": "code",
   "execution_count": 41,
   "metadata": {},
   "outputs": [],
   "source": [
    "df_Covid.to_csv('licitacaoes_covid_PB.csv')  "
   ]
  }
 ],
 "metadata": {
  "kernelspec": {
   "display_name": "Python 3",
   "language": "python",
   "name": "python3"
  },
  "language_info": {
   "codemirror_mode": {
    "name": "ipython",
    "version": 3
   },
   "file_extension": ".py",
   "mimetype": "text/x-python",
   "name": "python",
   "nbconvert_exporter": "python",
   "pygments_lexer": "ipython3",
   "version": "3.7.6"
  }
 },
 "nbformat": 4,
 "nbformat_minor": 4
}
